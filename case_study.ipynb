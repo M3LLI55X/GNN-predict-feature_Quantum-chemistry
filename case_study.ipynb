{
  "nbformat": 4,
  "nbformat_minor": 0,
  "metadata": {
    "colab": {
      "provenance": [],
      "collapsed_sections": [
        "0-fyRiHaZYCu",
        "M2TwIo4TZjXt",
        "q04KF-OVZsSi"
      ],
      "gpuType": "T4"
    },
    "kernelspec": {
      "name": "python3",
      "display_name": "Python 3"
    },
    "language_info": {
      "name": "python"
    },
    "accelerator": "GPU"
  },
  "cells": [
    {
      "cell_type": "markdown",
      "source": [
        "## Graph Neural Networks for property prediction"
      ],
      "metadata": {
        "id": "dUud9iNcFFnk"
      }
    },
    {
      "cell_type": "markdown",
      "source": [
        "### Introduction\n",
        "In recent years, there has been an increased interest in using machine-learning to perform *in-silico* evaluation of various molecular properties of interest. This is often done with quantitative structure-property relations (QSPRs) or property prediction models. The aim of this is reducing the experimental efforts and direct them to the most promising candidates only."
      ],
      "metadata": {
        "id": "SNcJm8v4FIH8"
      }
    },
    {
      "cell_type": "markdown",
      "source": [
        "### Problem statement\n",
        "In this notebook, you are tasked with developing a graph neural network based QSPR for predicting the boiling point temperature of organic compounds.\n"
      ],
      "metadata": {
        "id": "E5BZSceQFMBR"
      }
    },
    {
      "cell_type": "markdown",
      "source": [
        "### Requirements\n",
        "The following requirements must be met:\n",
        "* use this notebook to conduct your solution\n",
        "* include all steps from pre-processing, model development and evaluation\n",
        "* use [pytorch geometric](https://pytorch-geometric.readthedocs.io/en/latest/index.html) for the GNN model\n",
        "* choice of GNN model is up to you as long as it includes node and edge features\n",
        "* No extensive hyperparameters optimization is needed.\n",
        "* include relevant figures and metrics to evaluate the performance of your model\n",
        "* use the following dataset: [Bradely Double Good + boiling point dataset](https://figshare.com/articles/dataset/Jean_Claude_Bradley_Double_Plus_Good_Highly_Curated_and_Validated_Melting_Point_Dataset/1031638)\n",
        "    * the input is the *smiles* column and the target is the *mpC* column.   \n",
        "* Compare the obtained results with the following two papers:\n",
        "  * [Combining Group-Contribution Concept and Graph Neural Networks Toward Interpretable Molecular Property Models](https://pubs.acs.org/doi/full/10.1021/acs.jcim.2c01091)\n",
        "  * [Application of interpretable group-embedded graph neural networks for pure compound properties](https://www.sciencedirect.com/science/article/pii/S0098135423001618)"
      ],
      "metadata": {
        "id": "4Dblyv5YFVKl"
      }
    },
    {
      "cell_type": "markdown",
      "source": [
        "### Solution"
      ],
      "metadata": {
        "id": "qUewVuxHFWy4"
      }
    },
    {
      "cell_type": "markdown",
      "source": [
        "*write code and comments here*"
      ],
      "metadata": {
        "id": "G41XGAyuFa2g"
      }
    },
    {
      "cell_type": "code",
      "source": [
        "!pip install rdkit\n",
        "!pip install torch\n",
        "!pip install torch-geometric"
      ],
      "metadata": {
        "id": "4ITWfQPupGpj",
        "colab": {
          "base_uri": "https://localhost:8080/"
        },
        "outputId": "52dac96a-26f2-45f4-e5a1-d71e7b47fd58"
      },
      "execution_count": 77,
      "outputs": [
        {
          "output_type": "stream",
          "name": "stdout",
          "text": [
            "Requirement already satisfied: rdkit in /usr/local/lib/python3.10/dist-packages (2023.9.4)\n",
            "Requirement already satisfied: numpy in /usr/local/lib/python3.10/dist-packages (from rdkit) (1.23.5)\n",
            "Requirement already satisfied: Pillow in /usr/local/lib/python3.10/dist-packages (from rdkit) (9.4.0)\n",
            "Requirement already satisfied: torch in /usr/local/lib/python3.10/dist-packages (2.1.0+cu121)\n",
            "Requirement already satisfied: filelock in /usr/local/lib/python3.10/dist-packages (from torch) (3.13.1)\n",
            "Requirement already satisfied: typing-extensions in /usr/local/lib/python3.10/dist-packages (from torch) (4.5.0)\n",
            "Requirement already satisfied: sympy in /usr/local/lib/python3.10/dist-packages (from torch) (1.12)\n",
            "Requirement already satisfied: networkx in /usr/local/lib/python3.10/dist-packages (from torch) (3.2.1)\n",
            "Requirement already satisfied: jinja2 in /usr/local/lib/python3.10/dist-packages (from torch) (3.1.3)\n",
            "Requirement already satisfied: fsspec in /usr/local/lib/python3.10/dist-packages (from torch) (2023.6.0)\n",
            "Requirement already satisfied: triton==2.1.0 in /usr/local/lib/python3.10/dist-packages (from torch) (2.1.0)\n",
            "Requirement already satisfied: MarkupSafe>=2.0 in /usr/local/lib/python3.10/dist-packages (from jinja2->torch) (2.1.3)\n",
            "Requirement already satisfied: mpmath>=0.19 in /usr/local/lib/python3.10/dist-packages (from sympy->torch) (1.3.0)\n",
            "Requirement already satisfied: torch-geometric in /usr/local/lib/python3.10/dist-packages (2.4.0)\n",
            "Requirement already satisfied: tqdm in /usr/local/lib/python3.10/dist-packages (from torch-geometric) (4.66.1)\n",
            "Requirement already satisfied: numpy in /usr/local/lib/python3.10/dist-packages (from torch-geometric) (1.23.5)\n",
            "Requirement already satisfied: scipy in /usr/local/lib/python3.10/dist-packages (from torch-geometric) (1.11.4)\n",
            "Requirement already satisfied: jinja2 in /usr/local/lib/python3.10/dist-packages (from torch-geometric) (3.1.3)\n",
            "Requirement already satisfied: requests in /usr/local/lib/python3.10/dist-packages (from torch-geometric) (2.31.0)\n",
            "Requirement already satisfied: pyparsing in /usr/local/lib/python3.10/dist-packages (from torch-geometric) (3.1.1)\n",
            "Requirement already satisfied: scikit-learn in /usr/local/lib/python3.10/dist-packages (from torch-geometric) (1.2.2)\n",
            "Requirement already satisfied: psutil>=5.8.0 in /usr/local/lib/python3.10/dist-packages (from torch-geometric) (5.9.5)\n",
            "Requirement already satisfied: MarkupSafe>=2.0 in /usr/local/lib/python3.10/dist-packages (from jinja2->torch-geometric) (2.1.3)\n",
            "Requirement already satisfied: charset-normalizer<4,>=2 in /usr/local/lib/python3.10/dist-packages (from requests->torch-geometric) (3.3.2)\n",
            "Requirement already satisfied: idna<4,>=2.5 in /usr/local/lib/python3.10/dist-packages (from requests->torch-geometric) (3.6)\n",
            "Requirement already satisfied: urllib3<3,>=1.21.1 in /usr/local/lib/python3.10/dist-packages (from requests->torch-geometric) (2.0.7)\n",
            "Requirement already satisfied: certifi>=2017.4.17 in /usr/local/lib/python3.10/dist-packages (from requests->torch-geometric) (2023.11.17)\n",
            "Requirement already satisfied: joblib>=1.1.1 in /usr/local/lib/python3.10/dist-packages (from scikit-learn->torch-geometric) (1.3.2)\n",
            "Requirement already satisfied: threadpoolctl>=2.0.0 in /usr/local/lib/python3.10/dist-packages (from scikit-learn->torch-geometric) (3.2.0)\n"
          ]
        }
      ]
    },
    {
      "cell_type": "code",
      "execution_count": 78,
      "metadata": {
        "id": "yFX_rZTzYZib"
      },
      "outputs": [],
      "source": [
        "# import packages\n",
        "import numpy as np\n",
        "from rdkit import Chem\n",
        "from rdkit.Chem.rdmolops import GetAdjacencyMatrix\n",
        "import torch\n",
        "from torch_geometric.data import Data\n",
        "from torch.utils.data import DataLoader"
      ]
    },
    {
      "cell_type": "markdown",
      "source": [
        "# Atom Featurisation"
      ],
      "metadata": {
        "id": "0-fyRiHaZYCu"
      }
    },
    {
      "cell_type": "code",
      "source": [
        "import numpy as np\n",
        "from rdkit import Chem\n",
        "\n",
        "def one_hot_encoding(x, permitted_list):\n",
        "    if x not in permitted_list:\n",
        "        x = permitted_list[-1]\n",
        "    binary_encoding = [int(boolean_value) for boolean_value in list(map(lambda s: x == s, permitted_list))]\n",
        "    return binary_encoding\n",
        "\n",
        "def get_atom_features(atom, use_chirality=True, hydrogens_implicit=True):\n",
        "    permitted_list_of_atoms = ['C', 'N', 'O', 'S', 'F', 'H']  # Include 'H' for implicit hydrogens\n",
        "\n",
        "    # compute atom features\n",
        "    atom_type_enc = one_hot_encoding(str(atom.GetSymbol()), permitted_list_of_atoms)\n",
        "    n_heavy_neighbors_enc = one_hot_encoding(int(atom.GetDegree()), [0, 1, 2, 3, 4, \"MoreThanFour\"])\n",
        "    hybridisation_type_enc = one_hot_encoding(str(atom.GetHybridization()), [\"S\", \"SP\", \"SP2\", \"SP3\", \"SP3D\", \"SP3D2\", \"OTHER\"])\n",
        "    is_in_a_ring_enc = [int(atom.IsInRing())]\n",
        "    is_aromatic_enc = [int(atom.GetIsAromatic())]\n",
        "\n",
        "    # Additional features for melting point prediction\n",
        "    atomic_mass_scaled = [float((atom.GetMass() - 10.812) / 116.092)]\n",
        "    vdw_radius_scaled = [float((Chem.GetPeriodicTable().GetRvdw(atom.GetAtomicNum()) - 1.5) / 0.6)]\n",
        "    covalent_radius_scaled = [float((Chem.GetPeriodicTable().GetRcovalent(atom.GetAtomicNum()) - 0.64) / 0.76)]\n",
        "\n",
        "    atom_feature_vector = atom_type_enc + n_heavy_neighbors_enc + hybridisation_type_enc + is_in_a_ring_enc + is_aromatic_enc + atomic_mass_scaled + vdw_radius_scaled + covalent_radius_scaled\n",
        "\n",
        "    if use_chirality:\n",
        "        chirality_type_enc = one_hot_encoding(str(atom.GetChiralTag()), [\"CHI_UNSPECIFIED\", \"CHI_TETRAHEDRAL_CW\", \"CHI_TETRAHEDRAL_CCW\", \"CHI_OTHER\"])\n",
        "        atom_feature_vector += chirality_type_enc\n",
        "\n",
        "    if hydrogens_implicit:\n",
        "        n_hydrogens_enc = one_hot_encoding(int(atom.GetTotalNumHs()), [0, 1, 2, 3, 4, \"MoreThanFour\"])\n",
        "        atom_feature_vector += n_hydrogens_enc\n",
        "\n",
        "    return np.array(atom_feature_vector)\n"
      ],
      "metadata": {
        "id": "CMpR93kPFKJh"
      },
      "execution_count": 79,
      "outputs": []
    },
    {
      "cell_type": "code",
      "source": [
        "# def one_hot_encoding(x, permitted_list):\n",
        "\n",
        "#     if x not in permitted_list:\n",
        "#         x = permitted_list[-1]\n",
        "\n",
        "#     binary_encoding = [int(boolean_value) for boolean_value in list(map(lambda s: x == s, permitted_list))]\n",
        "\n",
        "#     return binary_encoding\n",
        "\n",
        "# def get_atom_features(atom, use_chirality = True, hydrogens_implicit = True):\n",
        "#     \"\"\"\n",
        "#     Takes an RDKit atom object as input and gives a 1d-numpy array of atom features as output.\n",
        "#     \"\"\"\n",
        "\n",
        "#     # define list of permitted atoms\n",
        "\n",
        "#     permitted_list_of_atoms =  ['C','N','O','S','F','Si','P','Cl','Br','Mg','Na','Ca','Fe','As','Al','I', 'B','V','K','Tl','Yb','Sb','Sn','Ag','Pd','Co','Se','Ti','Zn', 'Li','Ge','Cu','Au','Ni','Cd','In','Mn','Zr','Cr','Pt','Hg','Pb','Unknown']\n",
        "\n",
        "#     if hydrogens_implicit == False:\n",
        "#         permitted_list_of_atoms = ['H'] + permitted_list_of_atoms\n",
        "\n",
        "#     # compute atom features\n",
        "\n",
        "#     atom_type_enc = one_hot_encoding(str(atom.GetSymbol()), permitted_list_of_atoms)\n",
        "#     n_heavy_neighbors_enc = one_hot_encoding(int(atom.GetDegree()), [0, 1, 2, 3, 4, \"MoreThanFour\"])\n",
        "#     formal_charge_enc = one_hot_encoding(int(atom.GetFormalCharge()), [-3, -2, -1, 0, 1, 2, 3, \"Extreme\"])\n",
        "#     hybridisation_type_enc = one_hot_encoding(str(atom.GetHybridization()), [\"S\", \"SP\", \"SP2\", \"SP3\", \"SP3D\", \"SP3D2\", \"OTHER\"])\n",
        "\n",
        "#     is_in_a_ring_enc = [int(atom.IsInRing())]\n",
        "\n",
        "#     is_aromatic_enc = [int(atom.GetIsAromatic())]\n",
        "\n",
        "#     atomic_mass_scaled = [float((atom.GetMass() - 10.812)/116.092)]\n",
        "\n",
        "#     vdw_radius_scaled = [float((Chem.GetPeriodicTable().GetRvdw(atom.GetAtomicNum()) - 1.5)/0.6)]\n",
        "\n",
        "#     covalent_radius_scaled = [float((Chem.GetPeriodicTable().GetRcovalent(atom.GetAtomicNum()) - 0.64)/0.76)]\n",
        "\n",
        "#     atom_feature_vector = atom_type_enc + n_heavy_neighbors_enc + formal_charge_enc + hybridisation_type_enc + is_in_a_ring_enc + is_aromatic_enc + atomic_mass_scaled + vdw_radius_scaled + covalent_radius_scaled\n",
        "\n",
        "#     if use_chirality == True:\n",
        "#         chirality_type_enc = one_hot_encoding(str(atom.GetChiralTag()), [\"CHI_UNSPECIFIED\", \"CHI_TETRAHEDRAL_CW\", \"CHI_TETRAHEDRAL_CCW\", \"CHI_OTHER\"])\n",
        "#         atom_feature_vector += chirality_type_enc\n",
        "\n",
        "#     if hydrogens_implicit == True:\n",
        "#         n_hydrogens_enc = one_hot_encoding(int(atom.GetTotalNumHs()), [0, 1, 2, 3, 4, \"MoreThanFour\"])\n",
        "#         atom_feature_vector += n_hydrogens_enc\n",
        "\n",
        "#     return np.array(atom_feature_vector)"
      ],
      "metadata": {
        "id": "U3E2I5RCY-0s"
      },
      "execution_count": 80,
      "outputs": []
    },
    {
      "cell_type": "markdown",
      "source": [
        "# Bond Featurisation\n"
      ],
      "metadata": {
        "id": "M2TwIo4TZjXt"
      }
    },
    {
      "cell_type": "code",
      "source": [
        "\n",
        "def get_bond_features(bond,  use_stereochemistry = True):\n",
        "    \"\"\"\n",
        "    Takes an RDKit bond object as input and gives a 1d-numpy array of bond features as output.\n",
        "    \"\"\"\n",
        "\n",
        "    permitted_list_of_bond_types = [Chem.rdchem.BondType.SINGLE, Chem.rdchem.BondType.DOUBLE, Chem.rdchem.BondType.TRIPLE, Chem.rdchem.BondType.AROMATIC]\n",
        "    bond_type_enc = one_hot_encoding(bond.GetBondType(), permitted_list_of_bond_types)\n",
        "    bond_is_conj_enc = [int(bond.GetIsConjugated())]\n",
        "    bond_is_in_ring_enc = [int(bond.IsInRing())]\n",
        "    bond_feature_vector = bond_type_enc + bond_is_conj_enc + bond_is_in_ring_enc\n",
        "\n",
        "    if use_stereochemistry == True:\n",
        "        stereo_type_enc = one_hot_encoding(str(bond.GetStereo()), [\"STEREOZ\", \"STEREOE\", \"STEREOANY\", \"STEREONONE\"])\n",
        "        bond_feature_vector += stereo_type_enc\n",
        "\n",
        "    return np.array(bond_feature_vector)"
      ],
      "metadata": {
        "id": "v5QvOxr0ZnNT"
      },
      "execution_count": 81,
      "outputs": []
    },
    {
      "cell_type": "markdown",
      "source": [
        "# Generating labeled Pytorch Geometric Graph Objects\n",
        "\n"
      ],
      "metadata": {
        "id": "q04KF-OVZsSi"
      }
    },
    {
      "cell_type": "code",
      "source": [
        "def create_pytorch_geometric_graph_data_list_from_smiles_and_labels(x_smiles, y):\n",
        "\n",
        "    data_list = []\n",
        "\n",
        "    for (smiles, y_val) in zip(x_smiles, y):\n",
        "\n",
        "        # convert SMILES to RDKit mol object\n",
        "        # mol = Chem.MolFromSmiles(smiles)\n",
        "        mol = Chem.MolFromSmiles(smiles, sanitize=True)\n",
        "\n",
        "        if mol is not None:  # Check if the conversion was successful\n",
        "            try:\n",
        "                Chem.Kekulize(mol)\n",
        "            except ValueError as e:\n",
        "                print(f\"Error kekulizing SMILES: {smiles}. Error: {e}\")\n",
        "                print(f\"Skipping this data point with problematic SMILES: {smiles}\")\n",
        "                continue\n",
        "            n_nodes = mol.GetNumAtoms()\n",
        "            n_edges = 2 * mol.GetNumBonds()\n",
        "            unrelated_smiles = \"O=O\"\n",
        "            unrelated_mol = Chem.MolFromSmiles(unrelated_smiles)\n",
        "            n_node_features = len(get_atom_features(unrelated_mol.GetAtomWithIdx(0)))\n",
        "            n_edge_features = len(get_bond_features(unrelated_mol.GetBondBetweenAtoms(0, 1)))\n",
        "\n",
        "            # get feature dimensions\n",
        "            n_nodes = mol.GetNumAtoms()\n",
        "            n_edges = 2 * mol.GetNumBonds()\n",
        "            unrelated_smiles = \"O=O\"\n",
        "            unrelated_mol = Chem.MolFromSmiles(unrelated_smiles)\n",
        "            n_node_features = len(get_atom_features(unrelated_mol.GetAtomWithIdx(0)))\n",
        "            n_edge_features = len(get_bond_features(unrelated_mol.GetBondBetweenAtoms(0, 1)))\n",
        "\n",
        "            # construct node feature matrix X of shape (n_nodes, n_node_features)\n",
        "            X = torch.zeros((n_nodes, n_node_features), dtype=torch.float)\n",
        "\n",
        "            for atom in mol.GetAtoms():\n",
        "                X[atom.GetIdx()] = torch.tensor(get_atom_features(atom), dtype=torch.float)\n",
        "\n",
        "            # construct edge index array E of shape (2, n_edges)\n",
        "            edge_index = torch.zeros((2, n_edges), dtype=torch.long)\n",
        "            (rows, cols) = np.nonzero(GetAdjacencyMatrix(mol))\n",
        "            edge_index[0, :len(rows)] = torch.tensor(rows, dtype=torch.long)\n",
        "            edge_index[1, :len(cols)] = torch.tensor(cols, dtype=torch.long)\n",
        "\n",
        "            # construct edge feature array EF of shape (n_edges, n_edge_features)\n",
        "            EF = torch.zeros((n_edges, n_edge_features), dtype=torch.float)\n",
        "\n",
        "            for k, (i, j) in enumerate(zip(rows, cols)):\n",
        "                EF[k] = torch.tensor(get_bond_features(mol.GetBondBetweenAtoms(int(i), int(j))))\n",
        "\n",
        "            # construct label tensor\n",
        "            y_tensor = torch.tensor([y_val], dtype=torch.float)\n",
        "\n",
        "            # construct PyTorch Geometric data object and append to data list\n",
        "            data_list.append(Data(x=X, edge_index=edge_index, edge_attr=EF, y=y_tensor))\n",
        "        else:\n",
        "            continue\n",
        "    return data_list"
      ],
      "metadata": {
        "id": "AXHP5oexZszn"
      },
      "execution_count": 82,
      "outputs": []
    },
    {
      "cell_type": "markdown",
      "source": [
        "# Data pre-process"
      ],
      "metadata": {
        "id": "HGfqbNfhh6Cd"
      }
    },
    {
      "cell_type": "code",
      "source": [
        "# Load the dataset from the Excel file using Pandas\n",
        "import pandas as pd\n",
        "url = '/content/drive/MyDrive/deep_learning/BradleyDoublePlusGoodMeltingPointDataset.xlsx'\n",
        "df = pd.read_excel(url)\n",
        "\n",
        "ATOM_REMOVE = ['Sn', 'As', 'Ti', 'Ca', 'Fe']\n",
        "for i in ATOM_REMOVE:\n",
        "      df.drop(df[df.smiles.str.contains(i)].index, inplace=True)\n",
        "      df.reset_index(drop=True, inplace=True)\n",
        "\n",
        "# Extract the SMILES and mpC columns\n",
        "smiles = df['smiles']\n",
        "mpC = df['mpC']\n",
        "x =  smiles.isnull().sum().sum()\n",
        "# Create PyTorch Geometric graph data\n",
        "data_list = create_pytorch_geometric_graph_data_list_from_smiles_and_labels(smiles, mpC)"
      ],
      "metadata": {
        "colab": {
          "base_uri": "https://localhost:8080/"
        },
        "id": "v4mV21-Doif_",
        "outputId": "9b3cfc48-f2f5-444e-c6e6-42e9bcef0599"
      },
      "execution_count": 83,
      "outputs": [
        {
          "output_type": "stream",
          "name": "stderr",
          "text": [
            "[21:26:56] Can't kekulize mol.  Unkekulized atoms: 0 1 2 3 4\n",
            "[21:26:57] Can't kekulize mol.  Unkekulized atoms: 2 3 4 5 6\n",
            "[21:26:58] Can't kekulize mol.  Unkekulized atoms: 24 25 26 27 28 31 32 33 34\n",
            "[21:26:58] Can't kekulize mol.  Unkekulized atoms: 0 1 2 3 4\n",
            "[21:26:58] Can't kekulize mol.  Unkekulized atoms: 0 1 2 3 4 5 6 7 8\n",
            "[21:26:58] Can't kekulize mol.  Unkekulized atoms: 1 2 3 4 5 6 7 8 9\n",
            "[21:26:58] Can't kekulize mol.  Unkekulized atoms: 16 17 18 19 20 21 22 23 24\n",
            "[21:26:59] Can't kekulize mol.  Unkekulized atoms: 3 4 5 6 7 8 9 10 11\n",
            "[21:26:59] Can't kekulize mol.  Unkekulized atoms: 3 4 5 6 8\n",
            "[21:27:01] Can't kekulize mol.  Unkekulized atoms: 0 1 2 3 4 5 6 7 8\n",
            "[21:27:03] Can't kekulize mol.  Unkekulized atoms: 1 2 3 4 5 6 7 8 9\n",
            "[21:27:03] Can't kekulize mol.  Unkekulized atoms: 0 1 2 3 4 5 6 7 8\n",
            "[21:27:04] Can't kekulize mol.  Unkekulized atoms: 0 1 2 3 12 13 14 15 16\n",
            "[21:27:05] Can't kekulize mol.  Unkekulized atoms: 0 1 2 3 4 5 6 7 8\n",
            "[21:27:05] Can't kekulize mol.  Unkekulized atoms: 3 4 5 6 7\n",
            "[21:27:06] Can't kekulize mol.  Unkekulized atoms: 1 2 3 4 5 6 7 8 9\n"
          ]
        }
      ]
    },
    {
      "cell_type": "code",
      "source": [
        "# print(data_list)\n",
        "print(data_list[0])\n",
        "for i in data_list[0]:\n",
        "  print(i)"
      ],
      "metadata": {
        "colab": {
          "base_uri": "https://localhost:8080/"
        },
        "id": "RorAEhun3KGO",
        "outputId": "80739f4f-1b39-48af-98ec-a4271338e519"
      },
      "execution_count": 84,
      "outputs": [
        {
          "output_type": "stream",
          "name": "stdout",
          "text": [
            "Data(x=[5, 34], edge_index=[2, 10], edge_attr=[10, 10], y=[1])\n",
            "('x', tensor([[1.0000, 0.0000, 0.0000, 0.0000, 0.0000, 0.0000, 0.0000, 0.0000, 0.0000,\n",
            "         1.0000, 0.0000, 0.0000, 0.0000, 0.0000, 0.0000, 1.0000, 0.0000, 0.0000,\n",
            "         0.0000, 1.0000, 0.0000, 0.0103, 0.3333, 0.1579, 1.0000, 0.0000, 0.0000,\n",
            "         0.0000, 0.0000, 1.0000, 0.0000, 0.0000, 0.0000, 0.0000],\n",
            "        [1.0000, 0.0000, 0.0000, 0.0000, 0.0000, 0.0000, 0.0000, 0.0000, 1.0000,\n",
            "         0.0000, 0.0000, 0.0000, 0.0000, 0.0000, 0.0000, 1.0000, 0.0000, 0.0000,\n",
            "         0.0000, 1.0000, 0.0000, 0.0103, 0.3333, 0.1579, 1.0000, 0.0000, 0.0000,\n",
            "         0.0000, 0.0000, 0.0000, 1.0000, 0.0000, 0.0000, 0.0000],\n",
            "        [1.0000, 0.0000, 0.0000, 0.0000, 0.0000, 0.0000, 0.0000, 0.0000, 1.0000,\n",
            "         0.0000, 0.0000, 0.0000, 0.0000, 0.0000, 0.0000, 1.0000, 0.0000, 0.0000,\n",
            "         0.0000, 1.0000, 0.0000, 0.0103, 0.3333, 0.1579, 1.0000, 0.0000, 0.0000,\n",
            "         0.0000, 0.0000, 0.0000, 1.0000, 0.0000, 0.0000, 0.0000],\n",
            "        [1.0000, 0.0000, 0.0000, 0.0000, 0.0000, 0.0000, 0.0000, 0.0000, 1.0000,\n",
            "         0.0000, 0.0000, 0.0000, 0.0000, 0.0000, 0.0000, 1.0000, 0.0000, 0.0000,\n",
            "         0.0000, 1.0000, 0.0000, 0.0103, 0.3333, 0.1579, 1.0000, 0.0000, 0.0000,\n",
            "         0.0000, 0.0000, 0.0000, 1.0000, 0.0000, 0.0000, 0.0000],\n",
            "        [1.0000, 0.0000, 0.0000, 0.0000, 0.0000, 0.0000, 0.0000, 1.0000, 0.0000,\n",
            "         0.0000, 0.0000, 0.0000, 0.0000, 0.0000, 0.0000, 1.0000, 0.0000, 0.0000,\n",
            "         0.0000, 0.0000, 0.0000, 0.0103, 0.3333, 0.1579, 1.0000, 0.0000, 0.0000,\n",
            "         0.0000, 0.0000, 0.0000, 0.0000, 1.0000, 0.0000, 0.0000]]))\n",
            "('edge_index', tensor([[0, 0, 0, 1, 1, 2, 2, 3, 3, 4],\n",
            "        [1, 3, 4, 0, 2, 1, 3, 0, 2, 0]]))\n",
            "('edge_attr', tensor([[1., 0., 0., 0., 0., 1., 0., 0., 0., 1.],\n",
            "        [1., 0., 0., 0., 0., 1., 0., 0., 0., 1.],\n",
            "        [1., 0., 0., 0., 0., 0., 0., 0., 0., 1.],\n",
            "        [1., 0., 0., 0., 0., 1., 0., 0., 0., 1.],\n",
            "        [1., 0., 0., 0., 0., 1., 0., 0., 0., 1.],\n",
            "        [1., 0., 0., 0., 0., 1., 0., 0., 0., 1.],\n",
            "        [1., 0., 0., 0., 0., 1., 0., 0., 0., 1.],\n",
            "        [1., 0., 0., 0., 0., 1., 0., 0., 0., 1.],\n",
            "        [1., 0., 0., 0., 0., 1., 0., 0., 0., 1.],\n",
            "        [1., 0., 0., 0., 0., 0., 0., 0., 0., 1.]]))\n",
            "('y', tensor([-161.5100]))\n"
          ]
        }
      ]
    },
    {
      "cell_type": "markdown",
      "source": [
        "# Training Loop\n"
      ],
      "metadata": {
        "id": "Ehk9KtbuZ292"
      }
    },
    {
      "cell_type": "code",
      "source": [
        "import torch\n",
        "import torch.nn as nn\n",
        "import torch.nn.functional as F\n",
        "from torch_geometric.nn import GCNConv, global_mean_pool\n",
        "from torch_geometric.data import Data, DataLoader\n",
        "from rdkit import Chem\n",
        "import numpy as np\n",
        "class SimpleGNN(nn.Module):\n",
        "    def __init__(self, in_channels, hidden_channels, out_channels):\n",
        "        super(SimpleGNN, self).__init__()\n",
        "\n",
        "        self.conv1 = GCNConv(in_channels, hidden_channels)\n",
        "        self.conv2 = GCNConv(hidden_channels, out_channels)\n",
        "\n",
        "    def forward(self, data):\n",
        "        x, edge_index = data.x, data.edge_index\n",
        "\n",
        "        x = self.conv1(x, edge_index)\n",
        "        x = F.leaky_relu(x)\n",
        "        self.dropout = nn.Dropout(p=0.5)\n",
        "        x = self.conv2(x, edge_index)\n",
        "        # x = F.leaky_relu(x)\n",
        "\n",
        "        # Global pooling to obtain a graph-level representation\n",
        "        x = global_mean_pool(x, data.batch)\n",
        "\n",
        "        return x\n",
        "\n",
        "\n",
        "gnn_model = SimpleGNN(in_channels=34, hidden_channels=32, out_channels=1)\n",
        "\n"
      ],
      "metadata": {
        "id": "xAjdoOEtD7bA"
      },
      "execution_count": 95,
      "outputs": []
    },
    {
      "cell_type": "code",
      "source": [
        "# # We will use pytorch and pytorch geometric for our task\n",
        "\n",
        "# import torch\n",
        "# from torch.nn import Linear\n",
        "# import torch.nn.functional as F\n",
        "# from torch_geometric.nn import GCNConv, TopKPooling, global_mean_pool\n",
        "# from torch_geometric.nn import global_mean_pool as gap, global_max_pool as gmp\n",
        "# embedding_size = 64\n",
        "\n",
        "# class GCN(torch.nn.Module):\n",
        "#     def __init__(self):\n",
        "#         # Init parent\n",
        "#         super(GCN, self).__init__()\n",
        "#         torch.manual_seed(42)\n",
        "\n",
        "#         # GCN layers\n",
        "#         self.initial_conv = GCNConv(79, embedding_size)\n",
        "#         self.conv1 = GCNConv(embedding_size, embedding_size)\n",
        "#         self.conv2 = GCNConv(embedding_size, embedding_size)\n",
        "#         self.conv3 = GCNConv(embedding_size, embedding_size)\n",
        "\n",
        "#         # Output layer\n",
        "#         self.out = Linear(embedding_size*2, 1)\n",
        "\n",
        "#     def forward(self, x, edge_index, batch_index):\n",
        "#         # First Conv layer\n",
        "#         hidden = self.initial_conv(x, edge_index)\n",
        "#         hidden = F.tanh(hidden)\n",
        "\n",
        "#         # Other Conv layers\n",
        "#         hidden = self.conv1(hidden, edge_index)\n",
        "#         hidden = F.tanh(hidden)\n",
        "#         hidden = self.conv2(hidden, edge_index)\n",
        "#         hidden = F.tanh(hidden)\n",
        "#         hidden = self.conv3(hidden, edge_index)\n",
        "#         hidden = F.tanh(hidden)\n",
        "\n",
        "#         # Global Pooling (stack different aggregations)\n",
        "#         hidden = torch.cat([gmp(hidden, batch_index),\n",
        "#                             gap(hidden, batch_index)], dim=1)\n",
        "\n",
        "#         # Apply a final (linear) classifier.\n",
        "#         out = self.out(hidden)\n",
        "\n",
        "#         return out, hidden\n",
        "\n",
        "# model = GCN()\n",
        "# print(model)\n",
        "# print(\"Number of parameters: \", sum(p.numel() for p in model.parameters()))"
      ],
      "metadata": {
        "id": "EdlA4RDuX4ep"
      },
      "execution_count": 86,
      "outputs": []
    },
    {
      "cell_type": "code",
      "source": [
        "# create dataloader for training\n",
        "dataloader = DataLoader(dataset = data_list, batch_size = 2**7)\n",
        "\n",
        "# define loss function\n",
        "loss_function = nn.MSELoss()\n",
        "# loss_function = torch.optim.SGD()\n",
        "\n",
        "# define optimiser\n",
        "optimiser = torch.optim.Adam(gnn_model.parameters(), lr = 1e-4)\n",
        "\n",
        "# loop over 10 training epochs\n",
        "for epoch in range(2000):\n",
        "\n",
        "    gnn_model.train()\n",
        "\n",
        "    # loop over minibatches for training\n",
        "    for (k, batch) in enumerate(dataloader):\n",
        "\n",
        "        # compute current value of loss function via forward pass\n",
        "        output = gnn_model(batch)\n",
        "        # print(output)\n",
        "        loss_function_value = loss_function(output[:,0], torch.tensor(batch.y, dtype = torch.float32))\n",
        "\n",
        "        # set past gradient to zero\n",
        "        optimiser.zero_grad()\n",
        "        # pred, embedding = model(batch.x.float(), batch.edge_index, batch.batch)\n",
        "        # print(loss_function_value)\n",
        "        # compute current gradient via backward pass\n",
        "        loss_function_value.backward()\n",
        "\n",
        "        # update model weights using gradient and optimisation method\n",
        "        optimiser.step()\n"
      ],
      "metadata": {
        "colab": {
          "base_uri": "https://localhost:8080/"
        },
        "id": "QoWc6ATpR64S",
        "outputId": "6adaa56a-b6fe-4cdd-9b70-4ec184b009af"
      },
      "execution_count": 96,
      "outputs": [
        {
          "output_type": "stream",
          "name": "stderr",
          "text": [
            "/usr/local/lib/python3.10/dist-packages/torch_geometric/deprecation.py:22: UserWarning: 'data.DataLoader' is deprecated, use 'loader.DataLoader' instead\n",
            "  warnings.warn(out)\n",
            "<ipython-input-96-7b86c94b0eec>:22: UserWarning: To copy construct from a tensor, it is recommended to use sourceTensor.clone().detach() or sourceTensor.clone().detach().requires_grad_(True), rather than torch.tensor(sourceTensor).\n",
            "  loss_function_value = loss_function(output[:,0], torch.tensor(batch.y, dtype = torch.float32))\n"
          ]
        }
      ]
    },
    {
      "cell_type": "markdown",
      "source": [
        "# Resuilt"
      ],
      "metadata": {
        "id": "CnwZM7QlkKh9"
      }
    },
    {
      "cell_type": "code",
      "source": [
        "from sklearn.model_selection import train_test_split\n",
        "\n",
        "# Split the data into training and testing sets\n",
        "train_data, test_data = train_test_split(data_list, test_size=0.8, random_state=42)\n",
        "# test_data = train_test_split(data_list, test_size=0.2, random_state=42)\n",
        "gnn_model.eval()  # Set the model to evaluation mode\n",
        "\n",
        "predictions = []\n",
        "\n",
        "with torch.no_grad():\n",
        "    for batch in test_data:\n",
        "        output = gnn_model(batch)\n",
        "        predictions.append(output.item())\n",
        "\n",
        "# Convert predictions to a numpy array\n",
        "predictions = np.array(predictions)\n"
      ],
      "metadata": {
        "id": "-OYvwrjq9D7z"
      },
      "execution_count": 97,
      "outputs": []
    },
    {
      "cell_type": "code",
      "source": [
        "from sklearn.metrics import mean_squared_error, mean_absolute_error, r2_score\n",
        "\n",
        "# Assuming 'y' is the ground truth boiling point values in the test set\n",
        "ground_truth = np.array([batch.y.item() for batch in test_data])\n",
        "print(predictions)\n",
        "# mse = mean_squared_error(ground_truth, predictions)\n",
        "# mae = mean_absolute_error(ground_truth, predictions)\n",
        "r2 = r2_score(ground_truth, predictions)\n",
        "\n",
        "# print(f'Mean Squared Error: {mse:.4f}')\n",
        "# print(f'Mean Absolute Error: {mae:.4f}')\n",
        "print(f'R-squared: {r2:.4f}')\n"
      ],
      "metadata": {
        "colab": {
          "base_uri": "https://localhost:8080/"
        },
        "id": "qnZ-MunBATlm",
        "outputId": "63dac6b7-4602-476f-9989-b62d9ee38634"
      },
      "execution_count": 98,
      "outputs": [
        {
          "output_type": "stream",
          "name": "stdout",
          "text": [
            "[ 72.08834839 109.84059143  95.92658997 ...  59.1968689  102.63365936\n",
            "  66.59532166]\n",
            "R-squared: 0.4761\n"
          ]
        }
      ]
    },
    {
      "cell_type": "code",
      "source": [
        "import matplotlib.pyplot as plt\n",
        "\n",
        "# Assuming 'ground_truth' is the array of real boiling points and 'predictions' is the array of predicted values\n",
        "# These values should be obtained during the evaluation phase\n",
        "\n",
        "plt.figure(figsize=(10, 6))\n",
        "\n",
        "plt.scatter(ground_truth, predictions, color='blue', label='Actual vs. Predicted')\n",
        "plt.plot([min(ground_truth), max(ground_truth)], [min(ground_truth), max(ground_truth)], linestyle='--', color='red', label='Perfect Prediction')\n",
        "\n",
        "plt.title('Actual vs. Predicted Boiling Points')\n",
        "plt.xlabel('Actual Boiling Points (mpC)')\n",
        "plt.ylabel('Predicted Boiling Points')\n",
        "plt.legend()\n",
        "plt.grid(True)\n",
        "plt.show()\n"
      ],
      "metadata": {
        "colab": {
          "base_uri": "https://localhost:8080/",
          "height": 564
        },
        "id": "mxUO_wdqBW9t",
        "outputId": "c782914f-a0fb-4343-fc9d-14e719e1741f"
      },
      "execution_count": 99,
      "outputs": [
        {
          "output_type": "display_data",
          "data": {
            "text/plain": [
              "<Figure size 1000x600 with 1 Axes>"
            ],
            "image/png": "[encoded data removed]"
          },
          "metadata": {}
        }
      ]
    },
    {
      "cell_type": "markdown",
      "source": [
        "The current model faces challenges attributed to insufficient data preprocessing and a relatively simplistic structure. A comparison with the models introduced in the literature, specifically ACG and GroupGAT, reveals noticeable disparities. These discrepancies can be attributed to the following issues:\n",
        "\n",
        "### 1. **Data Preprocessing:**\n",
        "   - **Feature Scaling:** Lack of normalize or standardize input features to achieve a consistent scale.\n",
        "\n",
        "### 2. **Model Regularization:**\n",
        "  - **L2 Regularization:** Did not apply a penalty term based on the magnitude of weights.\n",
        "  - **Batch Normalization:** No stabilize and expedite training by normalizing layer inputs.\n",
        "\n",
        "### 3. **Model Architecture:**\n",
        "   - Compare to ACG and GroupGAT model, the model in this notebook is too simple.\n",
        "\n",
        "### 4. **Hyperparameter Tuning:**\n",
        "   - Experiment without different hyperparameter values.\n",
        "\n",
        "\n",
        "By systematically addressing these aspects, we can enhance the model's performance through an iterative and informed approach to development. The emphasis lies on experimentation, rigorous evaluation, and continuous refinement of the graph neural network model."
      ],
      "metadata": {
        "id": "L1wrDJL7lIao"
      }
    }
  ]
}